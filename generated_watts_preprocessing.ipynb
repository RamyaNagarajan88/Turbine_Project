{
 "cells": [
  {
   "cell_type": "code",
   "execution_count": 127,
   "source": [
    "import pandas as pd\r\n",
    "import numpy as np\r\n",
    "import matplotlib.pyplot as plt\r\n",
    "import seaborn as sns"
   ],
   "outputs": [],
   "metadata": {}
  },
  {
   "cell_type": "code",
   "execution_count": 128,
   "source": [
    "turbine_data=pd.read_excel('interview data.xlsx')"
   ],
   "outputs": [],
   "metadata": {}
  },
  {
   "cell_type": "code",
   "execution_count": 129,
   "source": [
    "turbine_data.head()"
   ],
   "outputs": [
    {
     "output_type": "execute_result",
     "data": {
      "text/html": [
       "<div>\n",
       "<style scoped>\n",
       "    .dataframe tbody tr th:only-of-type {\n",
       "        vertical-align: middle;\n",
       "    }\n",
       "\n",
       "    .dataframe tbody tr th {\n",
       "        vertical-align: top;\n",
       "    }\n",
       "\n",
       "    .dataframe thead th {\n",
       "        text-align: right;\n",
       "    }\n",
       "</style>\n",
       "<table border=\"1\" class=\"dataframe\">\n",
       "  <thead>\n",
       "    <tr style=\"text-align: right;\">\n",
       "      <th></th>\n",
       "      <th>TimeStamp</th>\n",
       "      <th>GT1 Generator Watts Max Selected {Avg}</th>\n",
       "      <th>GT1 Exhaust Temp Median Corrected By Average {Avg}</th>\n",
       "      <th>GT1 Compressor Inlet Temperature {Avg}</th>\n",
       "      <th>GT1 IGV angle in deg {Avg}</th>\n",
       "      <th>GT1 Compressor Discharge Press Max Select {Avg}</th>\n",
       "      <th>GT1 Compressor Discharge Temperature {Avg}</th>\n",
       "    </tr>\n",
       "  </thead>\n",
       "  <tbody>\n",
       "    <tr>\n",
       "      <th>0</th>\n",
       "      <td>2020-08-24 00:00:00</td>\n",
       "      <td>46.436666</td>\n",
       "      <td>1100.029649</td>\n",
       "      <td>104.321768</td>\n",
       "      <td>56.884733</td>\n",
       "      <td>113.176942</td>\n",
       "      <td>648.852809</td>\n",
       "    </tr>\n",
       "    <tr>\n",
       "      <th>1</th>\n",
       "      <td>2020-08-24 00:15:00</td>\n",
       "      <td>46.343993</td>\n",
       "      <td>1099.984785</td>\n",
       "      <td>104.454431</td>\n",
       "      <td>56.921203</td>\n",
       "      <td>112.983140</td>\n",
       "      <td>648.279097</td>\n",
       "    </tr>\n",
       "    <tr>\n",
       "      <th>2</th>\n",
       "      <td>2020-08-24 00:30:00</td>\n",
       "      <td>46.260622</td>\n",
       "      <td>1100.223210</td>\n",
       "      <td>104.217306</td>\n",
       "      <td>56.957673</td>\n",
       "      <td>112.964069</td>\n",
       "      <td>647.887172</td>\n",
       "    </tr>\n",
       "    <tr>\n",
       "      <th>3</th>\n",
       "      <td>2020-08-24 00:45:00</td>\n",
       "      <td>46.368425</td>\n",
       "      <td>1100.167993</td>\n",
       "      <td>104.080068</td>\n",
       "      <td>56.994142</td>\n",
       "      <td>113.070646</td>\n",
       "      <td>648.049427</td>\n",
       "    </tr>\n",
       "    <tr>\n",
       "      <th>4</th>\n",
       "      <td>2020-08-24 01:00:00</td>\n",
       "      <td>46.290432</td>\n",
       "      <td>1099.842908</td>\n",
       "      <td>103.864473</td>\n",
       "      <td>57.030612</td>\n",
       "      <td>113.042470</td>\n",
       "      <td>647.206482</td>\n",
       "    </tr>\n",
       "  </tbody>\n",
       "</table>\n",
       "</div>"
      ],
      "text/plain": [
       "            TimeStamp  GT1 Generator Watts Max Selected {Avg}  \\\n",
       "0 2020-08-24 00:00:00                               46.436666   \n",
       "1 2020-08-24 00:15:00                               46.343993   \n",
       "2 2020-08-24 00:30:00                               46.260622   \n",
       "3 2020-08-24 00:45:00                               46.368425   \n",
       "4 2020-08-24 01:00:00                               46.290432   \n",
       "\n",
       "   GT1 Exhaust Temp Median Corrected By Average {Avg}  \\\n",
       "0                                        1100.029649    \n",
       "1                                        1099.984785    \n",
       "2                                        1100.223210    \n",
       "3                                        1100.167993    \n",
       "4                                        1099.842908    \n",
       "\n",
       "   GT1 Compressor Inlet Temperature {Avg}  GT1 IGV angle in deg {Avg}  \\\n",
       "0                              104.321768                   56.884733   \n",
       "1                              104.454431                   56.921203   \n",
       "2                              104.217306                   56.957673   \n",
       "3                              104.080068                   56.994142   \n",
       "4                              103.864473                   57.030612   \n",
       "\n",
       "   GT1 Compressor Discharge Press Max Select {Avg}  \\\n",
       "0                                       113.176942   \n",
       "1                                       112.983140   \n",
       "2                                       112.964069   \n",
       "3                                       113.070646   \n",
       "4                                       113.042470   \n",
       "\n",
       "   GT1 Compressor Discharge Temperature {Avg}  \n",
       "0                                  648.852809  \n",
       "1                                  648.279097  \n",
       "2                                  647.887172  \n",
       "3                                  648.049427  \n",
       "4                                  647.206482  "
      ]
     },
     "metadata": {},
     "execution_count": 129
    }
   ],
   "metadata": {}
  },
  {
   "cell_type": "code",
   "execution_count": 130,
   "source": [
    "turbine_data.columns=['TimeStamp','Generated watts','Exhaust temp','Comp Inlet Temp','Comp IGV angle','Comp discharge pressure','Comp discharge temp']\r\n"
   ],
   "outputs": [],
   "metadata": {}
  },
  {
   "cell_type": "code",
   "execution_count": 131,
   "source": [
    "turbine_data.describe()"
   ],
   "outputs": [
    {
     "output_type": "execute_result",
     "data": {
      "text/html": [
       "<div>\n",
       "<style scoped>\n",
       "    .dataframe tbody tr th:only-of-type {\n",
       "        vertical-align: middle;\n",
       "    }\n",
       "\n",
       "    .dataframe tbody tr th {\n",
       "        vertical-align: top;\n",
       "    }\n",
       "\n",
       "    .dataframe thead th {\n",
       "        text-align: right;\n",
       "    }\n",
       "</style>\n",
       "<table border=\"1\" class=\"dataframe\">\n",
       "  <thead>\n",
       "    <tr style=\"text-align: right;\">\n",
       "      <th></th>\n",
       "      <th>Generated watts</th>\n",
       "      <th>Exhaust temp</th>\n",
       "      <th>Comp Inlet Temp</th>\n",
       "      <th>Comp IGV angle</th>\n",
       "      <th>Comp discharge pressure</th>\n",
       "      <th>Comp discharge temp</th>\n",
       "    </tr>\n",
       "  </thead>\n",
       "  <tbody>\n",
       "    <tr>\n",
       "      <th>count</th>\n",
       "      <td>8260.000000</td>\n",
       "      <td>8260.000000</td>\n",
       "      <td>8260.000000</td>\n",
       "      <td>8260.000000</td>\n",
       "      <td>8260.000000</td>\n",
       "      <td>8260.000000</td>\n",
       "    </tr>\n",
       "    <tr>\n",
       "      <th>mean</th>\n",
       "      <td>37.198114</td>\n",
       "      <td>624.547023</td>\n",
       "      <td>79.674343</td>\n",
       "      <td>56.289717</td>\n",
       "      <td>79.599056</td>\n",
       "      <td>400.330157</td>\n",
       "    </tr>\n",
       "    <tr>\n",
       "      <th>std</th>\n",
       "      <td>36.421137</td>\n",
       "      <td>467.832104</td>\n",
       "      <td>10.975498</td>\n",
       "      <td>24.042792</td>\n",
       "      <td>74.798557</td>\n",
       "      <td>269.464808</td>\n",
       "    </tr>\n",
       "    <tr>\n",
       "      <th>min</th>\n",
       "      <td>-0.033970</td>\n",
       "      <td>59.602717</td>\n",
       "      <td>44.567177</td>\n",
       "      <td>31.964838</td>\n",
       "      <td>-0.785665</td>\n",
       "      <td>62.466905</td>\n",
       "    </tr>\n",
       "    <tr>\n",
       "      <th>25%</th>\n",
       "      <td>-0.019440</td>\n",
       "      <td>81.175692</td>\n",
       "      <td>74.197544</td>\n",
       "      <td>32.032597</td>\n",
       "      <td>-0.002007</td>\n",
       "      <td>80.433695</td>\n",
       "    </tr>\n",
       "    <tr>\n",
       "      <th>50%</th>\n",
       "      <td>46.082923</td>\n",
       "      <td>1027.955506</td>\n",
       "      <td>79.530186</td>\n",
       "      <td>53.552446</td>\n",
       "      <td>112.050300</td>\n",
       "      <td>606.421915</td>\n",
       "    </tr>\n",
       "    <tr>\n",
       "      <th>75%</th>\n",
       "      <td>76.853076</td>\n",
       "      <td>1051.602964</td>\n",
       "      <td>84.896609</td>\n",
       "      <td>83.770569</td>\n",
       "      <td>157.515381</td>\n",
       "      <td>647.899412</td>\n",
       "    </tr>\n",
       "    <tr>\n",
       "      <th>max</th>\n",
       "      <td>83.619574</td>\n",
       "      <td>1100.391963</td>\n",
       "      <td>112.423642</td>\n",
       "      <td>83.998651</td>\n",
       "      <td>171.312171</td>\n",
       "      <td>701.815532</td>\n",
       "    </tr>\n",
       "  </tbody>\n",
       "</table>\n",
       "</div>"
      ],
      "text/plain": [
       "       Generated watts  Exhaust temp  Comp Inlet Temp  Comp IGV angle  \\\n",
       "count      8260.000000   8260.000000      8260.000000     8260.000000   \n",
       "mean         37.198114    624.547023        79.674343       56.289717   \n",
       "std          36.421137    467.832104        10.975498       24.042792   \n",
       "min          -0.033970     59.602717        44.567177       31.964838   \n",
       "25%          -0.019440     81.175692        74.197544       32.032597   \n",
       "50%          46.082923   1027.955506        79.530186       53.552446   \n",
       "75%          76.853076   1051.602964        84.896609       83.770569   \n",
       "max          83.619574   1100.391963       112.423642       83.998651   \n",
       "\n",
       "       Comp discharge pressure  Comp discharge temp  \n",
       "count              8260.000000          8260.000000  \n",
       "mean                 79.599056           400.330157  \n",
       "std                  74.798557           269.464808  \n",
       "min                  -0.785665            62.466905  \n",
       "25%                  -0.002007            80.433695  \n",
       "50%                 112.050300           606.421915  \n",
       "75%                 157.515381           647.899412  \n",
       "max                 171.312171           701.815532  "
      ]
     },
     "metadata": {},
     "execution_count": 131
    }
   ],
   "metadata": {}
  },
  {
   "cell_type": "code",
   "execution_count": 132,
   "source": [
    "turbine_data.shape"
   ],
   "outputs": [
    {
     "output_type": "execute_result",
     "data": {
      "text/plain": [
       "(8260, 7)"
      ]
     },
     "metadata": {},
     "execution_count": 132
    }
   ],
   "metadata": {}
  },
  {
   "cell_type": "code",
   "execution_count": 133,
   "source": [
    "turbine_data.info()"
   ],
   "outputs": [
    {
     "output_type": "stream",
     "name": "stdout",
     "text": [
      "<class 'pandas.core.frame.DataFrame'>\n",
      "RangeIndex: 8260 entries, 0 to 8259\n",
      "Data columns (total 7 columns):\n",
      " #   Column                   Non-Null Count  Dtype         \n",
      "---  ------                   --------------  -----         \n",
      " 0   TimeStamp                8260 non-null   datetime64[ns]\n",
      " 1   Generated watts          8260 non-null   float64       \n",
      " 2   Exhaust temp             8260 non-null   float64       \n",
      " 3   Comp Inlet Temp          8260 non-null   float64       \n",
      " 4   Comp IGV angle           8260 non-null   float64       \n",
      " 5   Comp discharge pressure  8260 non-null   float64       \n",
      " 6   Comp discharge temp      8260 non-null   float64       \n",
      "dtypes: datetime64[ns](1), float64(6)\n",
      "memory usage: 451.8 KB\n"
     ]
    }
   ],
   "metadata": {}
  },
  {
   "cell_type": "code",
   "execution_count": 134,
   "source": [
    "# DATA PREPROCESSING"
   ],
   "outputs": [],
   "metadata": {}
  },
  {
   "cell_type": "code",
   "execution_count": 135,
   "source": [
    "#Checking for null values\r\n",
    "turbine_data.isnull().sum()"
   ],
   "outputs": [
    {
     "output_type": "execute_result",
     "data": {
      "text/plain": [
       "TimeStamp                  0\n",
       "Generated watts            0\n",
       "Exhaust temp               0\n",
       "Comp Inlet Temp            0\n",
       "Comp IGV angle             0\n",
       "Comp discharge pressure    0\n",
       "Comp discharge temp        0\n",
       "dtype: int64"
      ]
     },
     "metadata": {},
     "execution_count": 135
    }
   ],
   "metadata": {}
  },
  {
   "cell_type": "code",
   "execution_count": 136,
   "source": [
    "#checking if any feature is categorical\r\n",
    "turbine_data.nunique()"
   ],
   "outputs": [
    {
     "output_type": "execute_result",
     "data": {
      "text/plain": [
       "TimeStamp                  8256\n",
       "Generated watts            8260\n",
       "Exhaust temp               8260\n",
       "Comp Inlet Temp            8259\n",
       "Comp IGV angle             8260\n",
       "Comp discharge pressure    8258\n",
       "Comp discharge temp        8260\n",
       "dtype: int64"
      ]
     },
     "metadata": {},
     "execution_count": 136
    }
   ],
   "metadata": {}
  },
  {
   "cell_type": "code",
   "execution_count": 137,
   "source": [
    "def outlier_boxplot(col):\r\n",
    "    sns.boxplot(turbine_data[col])\r\n",
    "    plt.title(f'Box plot of {col}')\r\n",
    "    plt.show()\r\n"
   ],
   "outputs": [],
   "metadata": {}
  },
  {
   "cell_type": "code",
   "execution_count": 138,
   "source": [
    "for col in list(turbine_data.columns)[2:]:\r\n",
    "    outlier_boxplot(col)"
   ],
   "outputs": [
    {
     "output_type": "stream",
     "name": "stderr",
     "text": [
      "C:\\Users\\ramya\\AppData\\Local\\Programs\\Python\\Python39\\lib\\site-packages\\seaborn\\_decorators.py:36: FutureWarning: Pass the following variable as a keyword arg: x. From version 0.12, the only valid positional argument will be `data`, and passing other arguments without an explicit keyword will result in an error or misinterpretation.\n",
      "  warnings.warn(\n"
     ]
    },
    {
     "output_type": "display_data",
     "data": {
      "image/png": "[encoded data removed]",
      "text/plain": [
       "<Figure size 432x288 with 1 Axes>"
      ]
     },
     "metadata": {
      "needs_background": "light"
     }
    },
    {
     "output_type": "stream",
     "name": "stderr",
     "text": [
      "C:\\Users\\ramya\\AppData\\Local\\Programs\\Python\\Python39\\lib\\site-packages\\seaborn\\_decorators.py:36: FutureWarning: Pass the following variable as a keyword arg: x. From version 0.12, the only valid positional argument will be `data`, and passing other arguments without an explicit keyword will result in an error or misinterpretation.\n",
      "  warnings.warn(\n"
     ]
    },
    {
     "output_type": "display_data",
     "data": {
      "image/png": "[encoded data removed]",
      "text/plain": [
       "<Figure size 432x288 with 1 Axes>"
      ]
     },
     "metadata": {
      "needs_background": "light"
     }
    },
    {
     "output_type": "stream",
     "name": "stderr",
     "text": [
      "C:\\Users\\ramya\\AppData\\Local\\Programs\\Python\\Python39\\lib\\site-packages\\seaborn\\_decorators.py:36: FutureWarning: Pass the following variable as a keyword arg: x. From version 0.12, the only valid positional argument will be `data`, and passing other arguments without an explicit keyword will result in an error or misinterpretation.\n",
      "  warnings.warn(\n"
     ]
    },
    {
     "output_type": "display_data",
     "data": {
      "image/png": "[encoded data removed]",
      "text/plain": [
       "<Figure size 432x288 with 1 Axes>"
      ]
     },
     "metadata": {
      "needs_background": "light"
     }
    },
    {
     "output_type": "stream",
     "name": "stderr",
     "text": [
      "C:\\Users\\ramya\\AppData\\Local\\Programs\\Python\\Python39\\lib\\site-packages\\seaborn\\_decorators.py:36: FutureWarning: Pass the following variable as a keyword arg: x. From version 0.12, the only valid positional argument will be `data`, and passing other arguments without an explicit keyword will result in an error or misinterpretation.\n",
      "  warnings.warn(\n"
     ]
    },
    {
     "output_type": "display_data",
     "data": {
      "image/png": "[encoded data removed]",
      "text/plain": [
       "<Figure size 432x288 with 1 Axes>"
      ]
     },
     "metadata": {
      "needs_background": "light"
     }
    },
    {
     "output_type": "stream",
     "name": "stderr",
     "text": [
      "C:\\Users\\ramya\\AppData\\Local\\Programs\\Python\\Python39\\lib\\site-packages\\seaborn\\_decorators.py:36: FutureWarning: Pass the following variable as a keyword arg: x. From version 0.12, the only valid positional argument will be `data`, and passing other arguments without an explicit keyword will result in an error or misinterpretation.\n",
      "  warnings.warn(\n"
     ]
    },
    {
     "output_type": "display_data",
     "data": {
      "image/png": "[encoded data removed]",
      "text/plain": [
       "<Figure size 432x288 with 1 Axes>"
      ]
     },
     "metadata": {
      "needs_background": "light"
     }
    }
   ],
   "metadata": {}
  },
  {
   "cell_type": "code",
   "execution_count": 144,
   "source": [
    "def outliers_removal(turbine_data,col,detected_outliers,removed_outliers):\r\n",
    "    q1=turbine_data[col].quantile(0.25)\r\n",
    "    q3=turbine_data[col].quantile(0.75)\r\n",
    "    iqr=q3-q1\r\n",
    "    lower_bound=q1-(1.5*iqr)\r\n",
    "    upper_bound=q3+(1.5*iqr)\r\n",
    "    detected_outliers[col]=((turbine_data[(turbine_data[col]< lower_bound) |(turbine_data[col]> upper_bound)]).shape[0])\r\n",
    "    if ((detected_outliers[col]/(turbine_data.shape[0]))*100)<30:\r\n",
    "        removed_outliers[col]=detected_outliers[col]\r\n",
    "        turbine_data=turbine_data[(turbine_data[col] > lower_bound) & (turbine_data[col] < upper_bound)]\r\n",
    "    return turbine_data,detected_outliers,removed_outliers\r\n",
    "\r\n",
    "    "
   ],
   "outputs": [],
   "metadata": {}
  },
  {
   "cell_type": "code",
   "execution_count": 145,
   "source": [
    "\r\n",
    "detected_outliers=removed_outliers=dict()\r\n",
    "for col in list(turbine_data.columns)[2:]:\r\n",
    "    turbine_data,detected_outliers,removed_outliers=outliers_removal(turbine_data,col,detected_outliers,removed_outliers)"
   ],
   "outputs": [],
   "metadata": {}
  },
  {
   "cell_type": "code",
   "execution_count": 146,
   "source": [
    "detected_outliers"
   ],
   "outputs": [
    {
     "output_type": "execute_result",
     "data": {
      "text/plain": [
       "{'Exhaust temp': 0,\n",
       " 'Comp Inlet Temp': 705,\n",
       " 'Comp IGV angle': 0,\n",
       " 'Comp discharge pressure': 0,\n",
       " 'Comp discharge temp': 0}"
      ]
     },
     "metadata": {},
     "execution_count": 146
    }
   ],
   "metadata": {}
  },
  {
   "cell_type": "code",
   "execution_count": 151,
   "source": [
    "removed_outliers"
   ],
   "outputs": [
    {
     "output_type": "execute_result",
     "data": {
      "text/plain": [
       "{'Exhaust temp': 0,\n",
       " 'Comp Inlet Temp': 705,\n",
       " 'Comp IGV angle': 0,\n",
       " 'Comp discharge pressure': 0,\n",
       " 'Comp discharge temp': 0}"
      ]
     },
     "metadata": {},
     "execution_count": 151
    }
   ],
   "metadata": {}
  },
  {
   "cell_type": "code",
   "execution_count": 153,
   "source": [
    "turbine_data.set_index('TimeStamp',inplace=True)"
   ],
   "outputs": [],
   "metadata": {}
  },
  {
   "cell_type": "code",
   "execution_count": 154,
   "source": [
    "turbine_data"
   ],
   "outputs": [
    {
     "output_type": "execute_result",
     "data": {
      "text/html": [
       "<div>\n",
       "<style scoped>\n",
       "    .dataframe tbody tr th:only-of-type {\n",
       "        vertical-align: middle;\n",
       "    }\n",
       "\n",
       "    .dataframe tbody tr th {\n",
       "        vertical-align: top;\n",
       "    }\n",
       "\n",
       "    .dataframe thead th {\n",
       "        text-align: right;\n",
       "    }\n",
       "</style>\n",
       "<table border=\"1\" class=\"dataframe\">\n",
       "  <thead>\n",
       "    <tr style=\"text-align: right;\">\n",
       "      <th></th>\n",
       "      <th>Generated watts</th>\n",
       "      <th>Exhaust temp</th>\n",
       "      <th>Comp Inlet Temp</th>\n",
       "      <th>Comp IGV angle</th>\n",
       "      <th>Comp discharge pressure</th>\n",
       "      <th>Comp discharge temp</th>\n",
       "    </tr>\n",
       "    <tr>\n",
       "      <th>TimeStamp</th>\n",
       "      <th></th>\n",
       "      <th></th>\n",
       "      <th></th>\n",
       "      <th></th>\n",
       "      <th></th>\n",
       "      <th></th>\n",
       "    </tr>\n",
       "  </thead>\n",
       "  <tbody>\n",
       "    <tr>\n",
       "      <th>2020-08-24 07:00:00</th>\n",
       "      <td>56.194174</td>\n",
       "      <td>1080.458523</td>\n",
       "      <td>93.414734</td>\n",
       "      <td>66.434522</td>\n",
       "      <td>128.060547</td>\n",
       "      <td>657.479811</td>\n",
       "    </tr>\n",
       "    <tr>\n",
       "      <th>2020-08-24 07:15:00</th>\n",
       "      <td>70.601718</td>\n",
       "      <td>1041.563359</td>\n",
       "      <td>77.525079</td>\n",
       "      <td>80.526630</td>\n",
       "      <td>152.184579</td>\n",
       "      <td>678.769340</td>\n",
       "    </tr>\n",
       "    <tr>\n",
       "      <th>2020-08-24 07:30:00</th>\n",
       "      <td>72.180540</td>\n",
       "      <td>1041.942826</td>\n",
       "      <td>76.320968</td>\n",
       "      <td>83.398002</td>\n",
       "      <td>155.112297</td>\n",
       "      <td>683.747909</td>\n",
       "    </tr>\n",
       "    <tr>\n",
       "      <th>2020-08-24 07:45:00</th>\n",
       "      <td>72.208169</td>\n",
       "      <td>1041.736295</td>\n",
       "      <td>76.295502</td>\n",
       "      <td>83.416564</td>\n",
       "      <td>155.111015</td>\n",
       "      <td>683.659801</td>\n",
       "    </tr>\n",
       "    <tr>\n",
       "      <th>2020-08-24 08:00:00</th>\n",
       "      <td>75.088482</td>\n",
       "      <td>1050.141315</td>\n",
       "      <td>77.484115</td>\n",
       "      <td>83.435125</td>\n",
       "      <td>156.955242</td>\n",
       "      <td>669.689944</td>\n",
       "    </tr>\n",
       "    <tr>\n",
       "      <th>...</th>\n",
       "      <td>...</td>\n",
       "      <td>...</td>\n",
       "      <td>...</td>\n",
       "      <td>...</td>\n",
       "      <td>...</td>\n",
       "      <td>...</td>\n",
       "    </tr>\n",
       "    <tr>\n",
       "      <th>2020-11-17 22:45:00</th>\n",
       "      <td>-0.024551</td>\n",
       "      <td>243.721117</td>\n",
       "      <td>67.657511</td>\n",
       "      <td>32.003817</td>\n",
       "      <td>0.418738</td>\n",
       "      <td>224.484616</td>\n",
       "    </tr>\n",
       "    <tr>\n",
       "      <th>2020-11-17 23:00:00</th>\n",
       "      <td>-0.024617</td>\n",
       "      <td>228.212614</td>\n",
       "      <td>67.523798</td>\n",
       "      <td>32.004229</td>\n",
       "      <td>0.438060</td>\n",
       "      <td>215.691899</td>\n",
       "    </tr>\n",
       "    <tr>\n",
       "      <th>2020-11-17 23:15:00</th>\n",
       "      <td>-0.024684</td>\n",
       "      <td>214.226581</td>\n",
       "      <td>66.895684</td>\n",
       "      <td>32.004642</td>\n",
       "      <td>0.441895</td>\n",
       "      <td>208.037662</td>\n",
       "    </tr>\n",
       "    <tr>\n",
       "      <th>2020-11-17 23:30:00</th>\n",
       "      <td>-0.024751</td>\n",
       "      <td>202.187456</td>\n",
       "      <td>66.550919</td>\n",
       "      <td>32.005054</td>\n",
       "      <td>0.428693</td>\n",
       "      <td>200.956444</td>\n",
       "    </tr>\n",
       "    <tr>\n",
       "      <th>2020-11-17 23:45:00</th>\n",
       "      <td>-0.024817</td>\n",
       "      <td>191.208285</td>\n",
       "      <td>66.180344</td>\n",
       "      <td>32.005466</td>\n",
       "      <td>0.393396</td>\n",
       "      <td>194.829490</td>\n",
       "    </tr>\n",
       "  </tbody>\n",
       "</table>\n",
       "<p>7555 rows × 6 columns</p>\n",
       "</div>"
      ],
      "text/plain": [
       "                     Generated watts  Exhaust temp  Comp Inlet Temp  \\\n",
       "TimeStamp                                                             \n",
       "2020-08-24 07:00:00        56.194174   1080.458523        93.414734   \n",
       "2020-08-24 07:15:00        70.601718   1041.563359        77.525079   \n",
       "2020-08-24 07:30:00        72.180540   1041.942826        76.320968   \n",
       "2020-08-24 07:45:00        72.208169   1041.736295        76.295502   \n",
       "2020-08-24 08:00:00        75.088482   1050.141315        77.484115   \n",
       "...                              ...           ...              ...   \n",
       "2020-11-17 22:45:00        -0.024551    243.721117        67.657511   \n",
       "2020-11-17 23:00:00        -0.024617    228.212614        67.523798   \n",
       "2020-11-17 23:15:00        -0.024684    214.226581        66.895684   \n",
       "2020-11-17 23:30:00        -0.024751    202.187456        66.550919   \n",
       "2020-11-17 23:45:00        -0.024817    191.208285        66.180344   \n",
       "\n",
       "                     Comp IGV angle  Comp discharge pressure  \\\n",
       "TimeStamp                                                      \n",
       "2020-08-24 07:00:00       66.434522               128.060547   \n",
       "2020-08-24 07:15:00       80.526630               152.184579   \n",
       "2020-08-24 07:30:00       83.398002               155.112297   \n",
       "2020-08-24 07:45:00       83.416564               155.111015   \n",
       "2020-08-24 08:00:00       83.435125               156.955242   \n",
       "...                             ...                      ...   \n",
       "2020-11-17 22:45:00       32.003817                 0.418738   \n",
       "2020-11-17 23:00:00       32.004229                 0.438060   \n",
       "2020-11-17 23:15:00       32.004642                 0.441895   \n",
       "2020-11-17 23:30:00       32.005054                 0.428693   \n",
       "2020-11-17 23:45:00       32.005466                 0.393396   \n",
       "\n",
       "                     Comp discharge temp  \n",
       "TimeStamp                                 \n",
       "2020-08-24 07:00:00           657.479811  \n",
       "2020-08-24 07:15:00           678.769340  \n",
       "2020-08-24 07:30:00           683.747909  \n",
       "2020-08-24 07:45:00           683.659801  \n",
       "2020-08-24 08:00:00           669.689944  \n",
       "...                                  ...  \n",
       "2020-11-17 22:45:00           224.484616  \n",
       "2020-11-17 23:00:00           215.691899  \n",
       "2020-11-17 23:15:00           208.037662  \n",
       "2020-11-17 23:30:00           200.956444  \n",
       "2020-11-17 23:45:00           194.829490  \n",
       "\n",
       "[7555 rows x 6 columns]"
      ]
     },
     "metadata": {},
     "execution_count": 154
    }
   ],
   "metadata": {}
  }
 ],
 "metadata": {
  "orig_nbformat": 4,
  "language_info": {
   "name": "python",
   "version": "3.9.4",
   "mimetype": "text/x-python",
   "codemirror_mode": {
    "name": "ipython",
    "version": 3
   },
   "pygments_lexer": "ipython3",
   "nbconvert_exporter": "python",
   "file_extension": ".py"
  },
  "kernelspec": {
   "name": "python3",
   "display_name": "Python 3.9.4 64-bit"
  },
  "interpreter": {
   "hash": "dc35b9876508b1d2e1d46d593856ae8aa478e8b34d2a595b43b666b93debebc3"
  }
 },
 "nbformat": 4,
 "nbformat_minor": 2
}