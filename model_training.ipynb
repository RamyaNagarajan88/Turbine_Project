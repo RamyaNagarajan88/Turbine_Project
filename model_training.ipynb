{
 "cells": [
  {
   "cell_type": "code",
   "execution_count": 10,
   "source": [
    "import pandas as pd\r\n",
    "import numpy as np\r\n",
    "from sklearn.preprocessing import StandardScaler\r\n",
    "from sklearn.tree import DecisionTreeRegressor \r\n",
    "from sklearn.metrics import r2_score,mean_squared_error,make_scorer\r\n",
    "import math\r\n",
    "from sklearn.model_selection import GridSearchCV, cross_val_score\r\n",
    "from sklearn.model_selection import train_test_split\r\n",
    "import seaborn as sns"
   ],
   "outputs": [],
   "metadata": {}
  },
  {
   "cell_type": "code",
   "execution_count": 2,
   "source": [
    "turbine_data=pd.read_excel('cleaned_turbine_data.xlsx')\r\n",
    "turbine_data.set_index('TimeStamp',inplace=True)\r\n",
    "turbine_data=turbine_data.drop(columns='Comp Inlet Temp')\r\n",
    "X=turbine_data.loc[:,'Exhaust temp':'Comp discharge temp']\r\n",
    "y=turbine_data.loc[:,'Generated watts']"
   ],
   "outputs": [],
   "metadata": {}
  },
  {
   "cell_type": "code",
   "execution_count": 3,
   "source": [
    "r2=make_scorer(r2_score)\r\n",
    "grid_parameters={\"splitter\":[\"best\",\"random\"],\"max_depth\" : [1,3,5,7,9],\"min_samples_leaf\":[1,2,3,4,5],\"min_weight_fraction_leaf\":[0.1,0.2,0.3,0.4,0.5],\"max_features\":[\"auto\",\"log2\"],\"max_leaf_nodes\":[10,20,30,40,50] }\r\n",
    "clf=GridSearchCV(DecisionTreeRegressor(),param_grid=grid_parameters,cv=10,return_train_score=False,scoring=r2)\r\n",
    "clf.fit(X,y)"
   ],
   "outputs": [
    {
     "output_type": "execute_result",
     "data": {
      "text/plain": [
       "GridSearchCV(cv=10, estimator=DecisionTreeRegressor(),\n",
       "             param_grid={'max_depth': [1, 3, 5, 7, 9],\n",
       "                         'max_features': ['auto', 'log2'],\n",
       "                         'max_leaf_nodes': [10, 20, 30, 40, 50],\n",
       "                         'min_samples_leaf': [1, 2, 3, 4, 5],\n",
       "                         'min_weight_fraction_leaf': [0.1, 0.2, 0.3, 0.4, 0.5],\n",
       "                         'splitter': ['best', 'random']},\n",
       "             scoring=make_scorer(r2_score))"
      ]
     },
     "metadata": {},
     "execution_count": 3
    }
   ],
   "metadata": {}
  },
  {
   "cell_type": "code",
   "execution_count": 4,
   "source": [
    "clf.best_params_"
   ],
   "outputs": [
    {
     "output_type": "execute_result",
     "data": {
      "text/plain": [
       "{'max_depth': 9,\n",
       " 'max_features': 'log2',\n",
       " 'max_leaf_nodes': 40,\n",
       " 'min_samples_leaf': 2,\n",
       " 'min_weight_fraction_leaf': 0.1,\n",
       " 'splitter': 'best'}"
      ]
     },
     "metadata": {},
     "execution_count": 4
    }
   ],
   "metadata": {}
  },
  {
   "cell_type": "code",
   "execution_count": 5,
   "source": [
    "clf.best_score_"
   ],
   "outputs": [
    {
     "output_type": "execute_result",
     "data": {
      "text/plain": [
       "0.9548492801837138"
      ]
     },
     "metadata": {},
     "execution_count": 5
    }
   ],
   "metadata": {}
  },
  {
   "cell_type": "code",
   "execution_count": 9,
   "source": [
    "X_train,X_test,y_train,y_test=train_test_split(X,y,test_size=0.2,random_state=42)\r\n",
    "regressor=DecisionTreeRegressor(max_depth=9,max_features='log2',max_leaf_nodes=40,min_samples_leaf=2,min_weight_fraction_leaf=0.1,splitter='best')\r\n",
    "regressor.fit(X_train,y_train)\r\n",
    "y_pred=regressor.predict(X_test)\r\n",
    "print(\"R_squared: \" + str(round(r2_score(y_test,y_pred),4)))\r\n",
    "print(\"RMSE: \" + str(round(math.sqrt(mean_squared_error(y_test,y_pred)),4)))"
   ],
   "outputs": [
    {
     "output_type": "stream",
     "name": "stdout",
     "text": [
      "R_squared: 0.9871\n",
      "RMSE: 4.208\n"
     ]
    }
   ],
   "metadata": {}
  },
  {
   "cell_type": "code",
   "execution_count": 14,
   "source": [
    "X_test"
   ],
   "outputs": [
    {
     "output_type": "execute_result",
     "data": {
      "text/html": [
       "<div>\n",
       "<style scoped>\n",
       "    .dataframe tbody tr th:only-of-type {\n",
       "        vertical-align: middle;\n",
       "    }\n",
       "\n",
       "    .dataframe tbody tr th {\n",
       "        vertical-align: top;\n",
       "    }\n",
       "\n",
       "    .dataframe thead th {\n",
       "        text-align: right;\n",
       "    }\n",
       "</style>\n",
       "<table border=\"1\" class=\"dataframe\">\n",
       "  <thead>\n",
       "    <tr style=\"text-align: right;\">\n",
       "      <th></th>\n",
       "      <th>Exhaust temp</th>\n",
       "      <th>Comp IGV angle</th>\n",
       "      <th>Comp discharge pressure</th>\n",
       "      <th>Comp discharge temp</th>\n",
       "    </tr>\n",
       "    <tr>\n",
       "      <th>TimeStamp</th>\n",
       "      <th></th>\n",
       "      <th></th>\n",
       "      <th></th>\n",
       "      <th></th>\n",
       "    </tr>\n",
       "  </thead>\n",
       "  <tbody>\n",
       "    <tr>\n",
       "      <th>2020-09-28 23:00:00</th>\n",
       "      <td>81.623742</td>\n",
       "      <td>32.017106</td>\n",
       "      <td>0.188533</td>\n",
       "      <td>80.818785</td>\n",
       "    </tr>\n",
       "    <tr>\n",
       "      <th>2020-09-13 06:45:00</th>\n",
       "      <td>127.806359</td>\n",
       "      <td>32.011807</td>\n",
       "      <td>-0.115685</td>\n",
       "      <td>147.370319</td>\n",
       "    </tr>\n",
       "    <tr>\n",
       "      <th>2020-09-28 05:30:00</th>\n",
       "      <td>125.500242</td>\n",
       "      <td>32.026215</td>\n",
       "      <td>0.005406</td>\n",
       "      <td>132.705939</td>\n",
       "    </tr>\n",
       "    <tr>\n",
       "      <th>2020-09-27 13:00:00</th>\n",
       "      <td>1082.904243</td>\n",
       "      <td>68.477620</td>\n",
       "      <td>129.429364</td>\n",
       "      <td>679.256253</td>\n",
       "    </tr>\n",
       "    <tr>\n",
       "      <th>2020-09-30 23:15:00</th>\n",
       "      <td>184.556871</td>\n",
       "      <td>32.018255</td>\n",
       "      <td>0.113101</td>\n",
       "      <td>223.643353</td>\n",
       "    </tr>\n",
       "    <tr>\n",
       "      <th>...</th>\n",
       "      <td>...</td>\n",
       "      <td>...</td>\n",
       "      <td>...</td>\n",
       "      <td>...</td>\n",
       "    </tr>\n",
       "    <tr>\n",
       "      <th>2020-09-26 20:15:00</th>\n",
       "      <td>82.182066</td>\n",
       "      <td>32.005386</td>\n",
       "      <td>0.107809</td>\n",
       "      <td>80.723524</td>\n",
       "    </tr>\n",
       "    <tr>\n",
       "      <th>2020-11-07 14:00:00</th>\n",
       "      <td>1048.861019</td>\n",
       "      <td>83.137180</td>\n",
       "      <td>154.068718</td>\n",
       "      <td>694.781538</td>\n",
       "    </tr>\n",
       "    <tr>\n",
       "      <th>2020-10-28 15:00:00</th>\n",
       "      <td>1095.973701</td>\n",
       "      <td>53.512135</td>\n",
       "      <td>111.259370</td>\n",
       "      <td>614.092035</td>\n",
       "    </tr>\n",
       "    <tr>\n",
       "      <th>2020-11-12 11:45:00</th>\n",
       "      <td>1058.008515</td>\n",
       "      <td>83.958783</td>\n",
       "      <td>153.915870</td>\n",
       "      <td>694.285617</td>\n",
       "    </tr>\n",
       "    <tr>\n",
       "      <th>2020-10-06 22:45:00</th>\n",
       "      <td>90.158799</td>\n",
       "      <td>31.985838</td>\n",
       "      <td>-0.219728</td>\n",
       "      <td>88.765891</td>\n",
       "    </tr>\n",
       "  </tbody>\n",
       "</table>\n",
       "<p>1511 rows × 4 columns</p>\n",
       "</div>"
      ],
      "text/plain": [
       "                     Exhaust temp  Comp IGV angle  Comp discharge pressure  \\\n",
       "TimeStamp                                                                    \n",
       "2020-09-28 23:00:00     81.623742       32.017106                 0.188533   \n",
       "2020-09-13 06:45:00    127.806359       32.011807                -0.115685   \n",
       "2020-09-28 05:30:00    125.500242       32.026215                 0.005406   \n",
       "2020-09-27 13:00:00   1082.904243       68.477620               129.429364   \n",
       "2020-09-30 23:15:00    184.556871       32.018255                 0.113101   \n",
       "...                           ...             ...                      ...   \n",
       "2020-09-26 20:15:00     82.182066       32.005386                 0.107809   \n",
       "2020-11-07 14:00:00   1048.861019       83.137180               154.068718   \n",
       "2020-10-28 15:00:00   1095.973701       53.512135               111.259370   \n",
       "2020-11-12 11:45:00   1058.008515       83.958783               153.915870   \n",
       "2020-10-06 22:45:00     90.158799       31.985838                -0.219728   \n",
       "\n",
       "                     Comp discharge temp  \n",
       "TimeStamp                                 \n",
       "2020-09-28 23:00:00            80.818785  \n",
       "2020-09-13 06:45:00           147.370319  \n",
       "2020-09-28 05:30:00           132.705939  \n",
       "2020-09-27 13:00:00           679.256253  \n",
       "2020-09-30 23:15:00           223.643353  \n",
       "...                                  ...  \n",
       "2020-09-26 20:15:00            80.723524  \n",
       "2020-11-07 14:00:00           694.781538  \n",
       "2020-10-28 15:00:00           614.092035  \n",
       "2020-11-12 11:45:00           694.285617  \n",
       "2020-10-06 22:45:00            88.765891  \n",
       "\n",
       "[1511 rows x 4 columns]"
      ]
     },
     "metadata": {},
     "execution_count": 14
    }
   ],
   "metadata": {}
  },
  {
   "cell_type": "code",
   "execution_count": 21,
   "source": [
    "def getPredictions(input_value):\r\n",
    "    print('Generated Watts: ' ,regressor.predict(input_value))\r\n"
   ],
   "outputs": [],
   "metadata": {}
  },
  {
   "cell_type": "code",
   "execution_count": 22,
   "source": [
    "input_Value=[[1100.11,57.32,113.05,644.57]]\r\n",
    "getPredictions(input_Value)\r\n"
   ],
   "outputs": [
    {
     "output_type": "stream",
     "name": "stdout",
     "text": [
      "Generated Watts:  [55.91674586]\n"
     ]
    }
   ],
   "metadata": {}
  }
 ],
 "metadata": {
  "orig_nbformat": 4,
  "language_info": {
   "name": "python",
   "version": "3.9.4",
   "mimetype": "text/x-python",
   "codemirror_mode": {
    "name": "ipython",
    "version": 3
   },
   "pygments_lexer": "ipython3",
   "nbconvert_exporter": "python",
   "file_extension": ".py"
  },
  "kernelspec": {
   "name": "python3",
   "display_name": "Python 3.9.4 64-bit"
  },
  "interpreter": {
   "hash": "dc35b9876508b1d2e1d46d593856ae8aa478e8b34d2a595b43b666b93debebc3"
  }
 },
 "nbformat": 4,
 "nbformat_minor": 2
}