{
 "cells": [
  {
   "cell_type": "code",
   "execution_count": 22,
   "source": [
    "import pandas as pd\r\n",
    "import numpy as np\r\n",
    "from sklearn.tree import DecisionTreeRegressor \r\n",
    "from sklearn.metrics import r2_score,mean_squared_error,make_scorer\r\n",
    "import math\r\n",
    "from sklearn.model_selection import GridSearchCV, cross_val_score\r\n",
    "from sklearn.model_selection import train_test_split"
   ],
   "outputs": [],
   "metadata": {}
  },
  {
   "cell_type": "markdown",
   "source": [
    "<h1> Data extraction <h1>"
   ],
   "metadata": {}
  },
  {
   "cell_type": "code",
   "execution_count": 23,
   "source": [
    "turbine_data=pd.read_excel('interview data.xlsx')\r\n",
    "turbine_data.columns=['TimeStamp','Generated watts','Exhaust temp','Comp Inlet Temp','Comp IGV angle','Comp discharge pressure','Comp discharge temp']\r\n",
    "turbine_data.set_index('TimeStamp',inplace=True)\r\n",
    "turbine_data=turbine_data.drop(columns='Comp Inlet Temp')\r\n"
   ],
   "outputs": [],
   "metadata": {}
  },
  {
   "cell_type": "markdown",
   "source": [
    "<h1> Splitting dependent and independent variables <h1>"
   ],
   "metadata": {}
  },
  {
   "cell_type": "code",
   "execution_count": 24,
   "source": [
    "X=turbine_data.loc[:,'Exhaust temp':'Comp discharge temp']\r\n",
    "y=turbine_data.loc[:,'Generated watts']"
   ],
   "outputs": [],
   "metadata": {}
  },
  {
   "cell_type": "markdown",
   "source": [
    "<h1> Parameter hypertuning <h1>"
   ],
   "metadata": {}
  },
  {
   "cell_type": "code",
   "execution_count": 25,
   "source": [
    "r2=make_scorer(r2_score)\r\n",
    "grid_parameters={\"splitter\":[\"best\",\"random\"],\"max_depth\" : [1,3,5,7,9],\"min_samples_leaf\":[1,2,3,4,5],\"min_weight_fraction_leaf\":[0.1,0.2,0.3,0.4,0.5],\"max_features\":[\"auto\",\"log2\"],\"max_leaf_nodes\":[10,20,30,40,50] }\r\n",
    "clf=GridSearchCV(DecisionTreeRegressor(),param_grid=grid_parameters,cv=10,return_train_score=False,scoring=r2)\r\n",
    "clf.fit(X,y)"
   ],
   "outputs": [
    {
     "output_type": "execute_result",
     "data": {
      "text/plain": [
       "GridSearchCV(cv=10, estimator=DecisionTreeRegressor(),\n",
       "             param_grid={'max_depth': [1, 3, 5, 7, 9],\n",
       "                         'max_features': ['auto', 'log2'],\n",
       "                         'max_leaf_nodes': [10, 20, 30, 40, 50],\n",
       "                         'min_samples_leaf': [1, 2, 3, 4, 5],\n",
       "                         'min_weight_fraction_leaf': [0.1, 0.2, 0.3, 0.4, 0.5],\n",
       "                         'splitter': ['best', 'random']},\n",
       "             scoring=make_scorer(r2_score))"
      ]
     },
     "metadata": {},
     "execution_count": 25
    }
   ],
   "metadata": {}
  },
  {
   "cell_type": "code",
   "execution_count": 26,
   "source": [
    "clf.best_params_"
   ],
   "outputs": [
    {
     "output_type": "execute_result",
     "data": {
      "text/plain": [
       "{'max_depth': 7,\n",
       " 'max_features': 'log2',\n",
       " 'max_leaf_nodes': 40,\n",
       " 'min_samples_leaf': 2,\n",
       " 'min_weight_fraction_leaf': 0.1,\n",
       " 'splitter': 'best'}"
      ]
     },
     "metadata": {},
     "execution_count": 26
    }
   ],
   "metadata": {}
  },
  {
   "cell_type": "code",
   "execution_count": 27,
   "source": [
    "clf.best_score_"
   ],
   "outputs": [
    {
     "output_type": "execute_result",
     "data": {
      "text/plain": [
       "0.9813248873926774"
      ]
     },
     "metadata": {},
     "execution_count": 27
    }
   ],
   "metadata": {}
  },
  {
   "cell_type": "markdown",
   "source": [
    "<h1> Training the model <h1>"
   ],
   "metadata": {}
  },
  {
   "cell_type": "code",
   "execution_count": 31,
   "source": [
    "X_train,X_test,y_train,y_test=train_test_split(X,y,test_size=0.2,random_state=42)\r\n",
    "regressor=DecisionTreeRegressor(max_depth=7,max_features='log2',max_leaf_nodes=40,min_samples_leaf=2,min_weight_fraction_leaf=0.1,splitter='best')\r\n",
    "regressor.fit(X_train,y_train)\r\n",
    "y_pred=regressor.predict(X_test)\r\n",
    "print(\"R_squared: \" + str(round(r2_score(y_test,y_pred),4)))\r\n",
    "print(\"RMSE: \" + str(round(math.sqrt(mean_squared_error(y_test,y_pred)),4)))"
   ],
   "outputs": [
    {
     "output_type": "stream",
     "name": "stdout",
     "text": [
      "R_squared: 0.9936\n",
      "RMSE: 2.9186\n"
     ]
    }
   ],
   "metadata": {}
  },
  {
   "cell_type": "code",
   "execution_count": 32,
   "source": [
    "def getPredictions(input_value):\r\n",
    "    print('Generated Watts: ' ,regressor.predict(input_value))\r\n"
   ],
   "outputs": [],
   "metadata": {}
  },
  {
   "cell_type": "markdown",
   "source": [
    "<h1> Predict output <h1>"
   ],
   "metadata": {}
  },
  {
   "cell_type": "code",
   "execution_count": 33,
   "source": [
    "input_Value=[[1100.11,57.32,113.05,644.57]]\r\n",
    "getPredictions(input_Value)\r\n"
   ],
   "outputs": [
    {
     "output_type": "stream",
     "name": "stdout",
     "text": [
      "Generated Watts:  [48.39151036]\n"
     ]
    }
   ],
   "metadata": {}
  }
 ],
 "metadata": {
  "orig_nbformat": 4,
  "language_info": {
   "name": "python",
   "version": "3.9.4",
   "mimetype": "text/x-python",
   "codemirror_mode": {
    "name": "ipython",
    "version": 3
   },
   "pygments_lexer": "ipython3",
   "nbconvert_exporter": "python",
   "file_extension": ".py"
  },
  "kernelspec": {
   "name": "python3",
   "display_name": "Python 3.9.4 64-bit"
  },
  "interpreter": {
   "hash": "dc35b9876508b1d2e1d46d593856ae8aa478e8b34d2a595b43b666b93debebc3"
  }
 },
 "nbformat": 4,
 "nbformat_minor": 2
}