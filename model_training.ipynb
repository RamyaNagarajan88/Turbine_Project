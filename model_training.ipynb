{
 "cells": [
  {
   "cell_type": "code",
   "execution_count": 1,
   "source": [
    "import pandas as pd\r\n",
    "import numpy as np\r\n",
    "from sklearn.tree import DecisionTreeRegressor \r\n",
    "from sklearn.metrics import r2_score,mean_squared_error,make_scorer\r\n",
    "import math\r\n",
    "from sklearn.model_selection import GridSearchCV, cross_val_score\r\n",
    "from sklearn.model_selection import train_test_split"
   ],
   "outputs": [],
   "metadata": {}
  },
  {
   "cell_type": "markdown",
   "source": [
    "<h1> Data extraction <h1>"
   ],
   "metadata": {}
  },
  {
   "cell_type": "code",
   "execution_count": 2,
   "source": [
    "turbine_data=pd.read_excel('interview data.xlsx')\r\n",
    "turbine_data.columns=['TimeStamp','Generated watts','Exhaust temp','Comp Inlet Temp','Comp IGV angle','Comp discharge pressure','Comp discharge temp']\r\n",
    "turbine_data.set_index('TimeStamp',inplace=True)\r\n",
    "turbine_data=turbine_data.drop(columns=['Comp Inlet Temp','Comp discharge temp'])\r\n"
   ],
   "outputs": [],
   "metadata": {}
  },
  {
   "cell_type": "markdown",
   "source": [
    "<h1> Splitting dependent and independent variables <h1>"
   ],
   "metadata": {}
  },
  {
   "cell_type": "code",
   "execution_count": 3,
   "source": [
    "X=turbine_data.loc[:,['Exhaust temp','Comp discharge pressure','Comp IGV angle']]\r\n",
    "y=turbine_data.loc[:,'Generated watts']"
   ],
   "outputs": [],
   "metadata": {}
  },
  {
   "cell_type": "markdown",
   "source": [
    "<h1> Parameter hypertuning <h1>"
   ],
   "metadata": {}
  },
  {
   "cell_type": "code",
   "execution_count": 4,
   "source": [
    "r2=make_scorer(r2_score)\r\n",
    "grid_parameters={\"splitter\":[\"best\",\"random\"],\"max_depth\" : [1,3,5,7,9],\"min_samples_leaf\":[1,2,3,4,5],\"min_weight_fraction_leaf\":[0.1,0.2,0.3,0.4,0.5],\"max_features\":[\"auto\",\"log2\"],\"max_leaf_nodes\":[10,20,30,40,50] }\r\n",
    "clf=GridSearchCV(DecisionTreeRegressor(),param_grid=grid_parameters,cv=10,return_train_score=False,scoring=r2)\r\n",
    "clf.fit(X,y)"
   ],
   "outputs": [
    {
     "output_type": "execute_result",
     "data": {
      "text/plain": [
       "GridSearchCV(cv=10, estimator=DecisionTreeRegressor(),\n",
       "             param_grid={'max_depth': [1, 3, 5, 7, 9],\n",
       "                         'max_features': ['auto', 'log2'],\n",
       "                         'max_leaf_nodes': [10, 20, 30, 40, 50],\n",
       "                         'min_samples_leaf': [1, 2, 3, 4, 5],\n",
       "                         'min_weight_fraction_leaf': [0.1, 0.2, 0.3, 0.4, 0.5],\n",
       "                         'splitter': ['best', 'random']},\n",
       "             scoring=make_scorer(r2_score))"
      ]
     },
     "metadata": {},
     "execution_count": 4
    }
   ],
   "metadata": {}
  },
  {
   "cell_type": "code",
   "execution_count": 10,
   "source": [
    "clf.best_params_"
   ],
   "outputs": [
    {
     "output_type": "execute_result",
     "data": {
      "text/plain": [
       "{'max_depth': 3,\n",
       " 'max_features': 'log2',\n",
       " 'max_leaf_nodes': 40,\n",
       " 'min_samples_leaf': 4,\n",
       " 'min_weight_fraction_leaf': 0.1,\n",
       " 'splitter': 'best'}"
      ]
     },
     "metadata": {},
     "execution_count": 10
    }
   ],
   "metadata": {}
  },
  {
   "cell_type": "code",
   "execution_count": 11,
   "source": [
    "clf.best_score_"
   ],
   "outputs": [
    {
     "output_type": "execute_result",
     "data": {
      "text/plain": [
       "0.9769025150019452"
      ]
     },
     "metadata": {},
     "execution_count": 11
    }
   ],
   "metadata": {}
  },
  {
   "cell_type": "markdown",
   "source": [
    "<h1> Training the model <h1>"
   ],
   "metadata": {}
  },
  {
   "cell_type": "code",
   "execution_count": 14,
   "source": [
    "X_train,X_test,y_train,y_test=train_test_split(X,y,test_size=0.2,random_state=42)\r\n",
    "regressor=DecisionTreeRegressor(max_depth=3,max_features='log2',max_leaf_nodes=40,min_samples_leaf=4,min_weight_fraction_leaf=0.1,splitter='best')\r\n",
    "regressor.fit(X_train,y_train)\r\n",
    "y_pred=regressor.predict(X_test)\r\n",
    "print(\"R_squared: \" + str(round(r2_score(y_test,y_pred),4)))\r\n",
    "print(\"RMSE: \" + str(round(math.sqrt(mean_squared_error(y_test,y_pred)),4)))"
   ],
   "outputs": [
    {
     "output_type": "stream",
     "name": "stdout",
     "text": [
      "R_squared: 0.9904\n",
      "RMSE: 3.5709\n"
     ]
    }
   ],
   "metadata": {}
  },
  {
   "cell_type": "code",
   "execution_count": 15,
   "source": [
    "def getPredictions(input_value):\r\n",
    "    print('Generated Watts: ' ,regressor.predict(input_value))\r\n"
   ],
   "outputs": [],
   "metadata": {}
  },
  {
   "cell_type": "markdown",
   "source": [
    "<h1> Predict output <h1>"
   ],
   "metadata": {}
  },
  {
   "cell_type": "code",
   "execution_count": 16,
   "source": [
    "input_Value=[[1100.23,112.8,57.3]]\r\n",
    "getPredictions(input_Value)\r\n"
   ],
   "outputs": [
    {
     "output_type": "stream",
     "name": "stdout",
     "text": [
      "Generated Watts:  [48.53130598]\n"
     ]
    }
   ],
   "metadata": {}
  }
 ],
 "metadata": {
  "orig_nbformat": 4,
  "language_info": {
   "name": "python",
   "version": "3.9.4",
   "mimetype": "text/x-python",
   "codemirror_mode": {
    "name": "ipython",
    "version": 3
   },
   "pygments_lexer": "ipython3",
   "nbconvert_exporter": "python",
   "file_extension": ".py"
  },
  "kernelspec": {
   "name": "python3",
   "display_name": "Python 3.9.4 64-bit"
  },
  "interpreter": {
   "hash": "dc35b9876508b1d2e1d46d593856ae8aa478e8b34d2a595b43b666b93debebc3"
  }
 },
 "nbformat": 4,
 "nbformat_minor": 2
}