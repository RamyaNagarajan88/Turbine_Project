{
 "cells": [
  {
   "cell_type": "code",
   "execution_count": 1,
   "source": [],
   "outputs": [],
   "metadata": {}
  },
  {
   "cell_type": "code",
   "execution_count": null,
   "source": [
    "turbine_data=pd.read_excel('cleaned_turbine_data.xlsx')\r\n",
    "turbine_data.set_index('TimeStamp',inplace=True)\r\n",
    "turbine_data=turbine_data.drop(columns='Comp Inlet Temp')\r\n",
    "X=turbine_data.loc[:,'Exhaust temp':'Comp discharge temp']\r\n",
    "y=turbine_data.loc[:,'Generated watts']"
   ],
   "outputs": [],
   "metadata": {}
  },
  {
   "cell_type": "code",
   "execution_count": null,
   "source": [
    "def accuracyScore(model):\r\n",
    "    classifier_pipeline = make_pipeline(StandardScaler(),DecisionTreeRegressor())\r\n",
    "    y_pred = cross_val_predict(classifier_pipeline,X,y, cv=10)\r\n",
    "    return [round(r2_score(y,y_pred),4),round(math.sqrt(mean_squared_error(y,y_pred)),4)]"
   ],
   "outputs": [],
   "metadata": {}
  }
 ],
 "metadata": {
  "orig_nbformat": 4,
  "language_info": {
   "name": "python",
   "version": "3.9.4",
   "mimetype": "text/x-python",
   "codemirror_mode": {
    "name": "ipython",
    "version": 3
   },
   "pygments_lexer": "ipython3",
   "nbconvert_exporter": "python",
   "file_extension": ".py"
  },
  "kernelspec": {
   "name": "python3",
   "display_name": "Python 3.9.4 64-bit"
  },
  "interpreter": {
   "hash": "dc35b9876508b1d2e1d46d593856ae8aa478e8b34d2a595b43b666b93debebc3"
  }
 },
 "nbformat": 4,
 "nbformat_minor": 2
}