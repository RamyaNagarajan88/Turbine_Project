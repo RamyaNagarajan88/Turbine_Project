{
 "cells": [
  {
   "cell_type": "code",
   "execution_count": 1,
   "source": [
    "import pandas as pd\r\n",
    "import numpy as np\r\n",
    "from sklearn.preprocessing import StandardScaler\r\n",
    "from sklearn.linear_model import LinearRegression,Ridge,Lasso\r\n",
    "from sklearn.svm import SVR\r\n",
    "from sklearn.tree import DecisionTreeRegressor \r\n",
    "from sklearn.pipeline import make_pipeline\r\n",
    "from sklearn.model_selection import cross_val_predict\r\n",
    "from sklearn.metrics import r2_score,mean_squared_error,make_scorer\r\n",
    "import math"
   ],
   "outputs": [],
   "metadata": {}
  },
  {
   "cell_type": "code",
   "execution_count": 2,
   "source": [
    "turbine_data=pd.read_excel('interview data.xlsx')\r\n",
    "turbine_data.columns=['TimeStamp','Generated watts','Exhaust temp','Comp Inlet Temp','Comp IGV angle','Comp discharge pressure','Comp discharge temp']\r\n",
    "turbine_data.set_index('TimeStamp',inplace=True)\r\n",
    "turbine_data=turbine_data.drop(columns=['Comp Inlet Temp','Comp discharge temp'])"
   ],
   "outputs": [],
   "metadata": {}
  },
  {
   "cell_type": "code",
   "execution_count": 3,
   "source": [
    "X=turbine_data.loc[:,['Exhaust temp','Comp discharge pressure','Comp IGV angle']]\r\n",
    "y=turbine_data.loc[:,'Generated watts']"
   ],
   "outputs": [],
   "metadata": {}
  },
  {
   "cell_type": "code",
   "execution_count": 4,
   "source": [
    "def accuracyScore(model):\r\n",
    "    classifier_pipeline = make_pipeline(StandardScaler(),model)\r\n",
    "    y_pred = cross_val_predict(classifier_pipeline,X,y, cv=10)\r\n",
    "    return [round(r2_score(y,y_pred),4),round(math.sqrt(mean_squared_error(y,y_pred)),4)]"
   ],
   "outputs": [],
   "metadata": {}
  },
  {
   "cell_type": "code",
   "execution_count": 5,
   "source": [
    "models={\r\n",
    "    'SUPPORT VECTOR REGRESSOR':{'clf_obj':SVR()},\r\n",
    "    'RIDGE':{'clf_obj':Ridge()},\r\n",
    "    'LASSO':{'clf_obj':Lasso()},\r\n",
    "    'LINEAR REGRESSION':{'clf_obj':LinearRegression()},\r\n",
    "    'DECISION TREE REGRESSOR':{'clf_obj':DecisionTreeRegressor()}\r\n",
    "}"
   ],
   "outputs": [],
   "metadata": {}
  },
  {
   "cell_type": "code",
   "execution_count": 6,
   "source": [
    "score_board=[]\r\n",
    "for model_name,model in models.items():\r\n",
    "    clf=model['clf_obj']\r\n",
    "    model_score=accuracyScore(clf) \r\n",
    "    score_board.append({'model_name':model_name,'R2':model_score[0],'RMSE':model_score[1]})"
   ],
   "outputs": [],
   "metadata": {}
  },
  {
   "cell_type": "code",
   "execution_count": 7,
   "source": [
    "score_board_df=pd.DataFrame(score_board,columns=['model_name','R2','RMSE'])\r\n",
    "score_board_df.sort_values(by='RMSE',ascending=True,inplace=True)\r\n",
    "score_board_df = score_board_df.reset_index(drop=True)\r\n",
    "score_board_df"
   ],
   "outputs": [
    {
     "output_type": "execute_result",
     "data": {
      "text/html": [
       "<div>\n",
       "<style scoped>\n",
       "    .dataframe tbody tr th:only-of-type {\n",
       "        vertical-align: middle;\n",
       "    }\n",
       "\n",
       "    .dataframe tbody tr th {\n",
       "        vertical-align: top;\n",
       "    }\n",
       "\n",
       "    .dataframe thead th {\n",
       "        text-align: right;\n",
       "    }\n",
       "</style>\n",
       "<table border=\"1\" class=\"dataframe\">\n",
       "  <thead>\n",
       "    <tr style=\"text-align: right;\">\n",
       "      <th></th>\n",
       "      <th>model_name</th>\n",
       "      <th>R2</th>\n",
       "      <th>RMSE</th>\n",
       "    </tr>\n",
       "  </thead>\n",
       "  <tbody>\n",
       "    <tr>\n",
       "      <th>0</th>\n",
       "      <td>DECISION TREE REGRESSOR</td>\n",
       "      <td>0.9998</td>\n",
       "      <td>0.5754</td>\n",
       "    </tr>\n",
       "    <tr>\n",
       "      <th>1</th>\n",
       "      <td>SUPPORT VECTOR REGRESSOR</td>\n",
       "      <td>0.9996</td>\n",
       "      <td>0.7593</td>\n",
       "    </tr>\n",
       "    <tr>\n",
       "      <th>2</th>\n",
       "      <td>RIDGE</td>\n",
       "      <td>0.9941</td>\n",
       "      <td>2.8043</td>\n",
       "    </tr>\n",
       "    <tr>\n",
       "      <th>3</th>\n",
       "      <td>LINEAR REGRESSION</td>\n",
       "      <td>0.9941</td>\n",
       "      <td>2.8052</td>\n",
       "    </tr>\n",
       "    <tr>\n",
       "      <th>4</th>\n",
       "      <td>LASSO</td>\n",
       "      <td>0.9913</td>\n",
       "      <td>3.3904</td>\n",
       "    </tr>\n",
       "  </tbody>\n",
       "</table>\n",
       "</div>"
      ],
      "text/plain": [
       "                 model_name      R2    RMSE\n",
       "0   DECISION TREE REGRESSOR  0.9998  0.5754\n",
       "1  SUPPORT VECTOR REGRESSOR  0.9996  0.7593\n",
       "2                     RIDGE  0.9941  2.8043\n",
       "3         LINEAR REGRESSION  0.9941  2.8052\n",
       "4                     LASSO  0.9913  3.3904"
      ]
     },
     "metadata": {},
     "execution_count": 7
    }
   ],
   "metadata": {}
  }
 ],
 "metadata": {
  "orig_nbformat": 4,
  "language_info": {
   "name": "python",
   "version": "3.9.4",
   "mimetype": "text/x-python",
   "codemirror_mode": {
    "name": "ipython",
    "version": 3
   },
   "pygments_lexer": "ipython3",
   "nbconvert_exporter": "python",
   "file_extension": ".py"
  },
  "kernelspec": {
   "name": "python3",
   "display_name": "Python 3.9.4 64-bit"
  },
  "interpreter": {
   "hash": "dc35b9876508b1d2e1d46d593856ae8aa478e8b34d2a595b43b666b93debebc3"
  }
 },
 "nbformat": 4,
 "nbformat_minor": 2
}