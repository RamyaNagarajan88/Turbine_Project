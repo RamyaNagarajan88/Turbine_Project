{
 "cells": [
  {
   "cell_type": "code",
   "execution_count": 23,
   "source": [
    "import pandas as pd\r\n",
    "import numpy as np\r\n",
    "from sklearn.preprocessing import StandardScaler\r\n",
    "from sklearn.linear_model import LinearRegression\r\n",
    "from sklearn.pipeline import make_pipeline\r\n",
    "from sklearn.model_selection import cross_val_predict\r\n",
    "from sklearn.metrics import r2_score,mean_squared_error,make_scorer\r\n",
    "import math\r\n",
    "from mlxtend.feature_selection import SequentialFeatureSelector as SFS\r\n",
    "import matplotlib.pyplot as plt\r\n",
    "from sklearn.tree import DecisionTreeRegressor "
   ],
   "outputs": [],
   "metadata": {}
  },
  {
   "cell_type": "markdown",
   "source": [
    "<H2> Whats in this file <H2>\r\n",
    "<H2>1. Pick features to model based on <H2>\r\n",
    "<H2>a. variance, <H2>\r\n",
    "<H2>b. correlation and <H2>\r\n",
    "<H2>c. Sequential Feature Selector<H2>\r\n",
    "<H2>d. decision tree based importances<H2>"
   ],
   "metadata": {}
  },
  {
   "cell_type": "code",
   "execution_count": 24,
   "source": [
    "turbine_data=pd.read_excel('interview data.xlsx')\r\n",
    "turbine_data.columns=['TimeStamp','Generated watts','Exhaust temp','Comp Inlet Temp','Comp IGV angle','Comp discharge pressure','Comp discharge temp']\r\n",
    "turbine_data.set_index('TimeStamp',inplace=True)"
   ],
   "outputs": [],
   "metadata": {}
  },
  {
   "cell_type": "code",
   "execution_count": 25,
   "source": [
    "X=turbine_data.loc[:,'Exhaust temp':'Comp discharge temp']\r\n",
    "y=turbine_data.loc[:,'Generated watts']"
   ],
   "outputs": [],
   "metadata": {}
  },
  {
   "cell_type": "markdown",
   "source": [
    "<H2>The distribution curves dont follow a bell curve. So we can standardize it to represent normal distribution<H2>"
   ],
   "metadata": {}
  },
  {
   "cell_type": "markdown",
   "source": [
    "<H1> Accuracy computation for baseline <H1>"
   ],
   "metadata": {}
  },
  {
   "cell_type": "code",
   "execution_count": 26,
   "source": [
    "def accuracyScore():\r\n",
    "    classifier_pipeline = make_pipeline(StandardScaler(), LinearRegression())\r\n",
    "    y_pred = cross_val_predict(classifier_pipeline,X,y, cv=10)\r\n",
    "    print(\"R_squared: \" + str(round(r2_score(y,y_pred),4)))\r\n",
    "    print(\"RMSE: \" + str(round(math.sqrt(mean_squared_error(y,y_pred)),4)))"
   ],
   "outputs": [],
   "metadata": {}
  },
  {
   "cell_type": "code",
   "execution_count": 27,
   "source": [
    "accuracyScore()"
   ],
   "outputs": [
    {
     "output_type": "stream",
     "name": "stdout",
     "text": [
      "R_squared: 0.9941\n",
      "RMSE: 2.809\n"
     ]
    }
   ],
   "metadata": {}
  },
  {
   "cell_type": "markdown",
   "source": [
    "<H2> Filter features based on variance. Feature with low variance dont have much to attribute. <H2>"
   ],
   "metadata": {}
  },
  {
   "cell_type": "code",
   "execution_count": 28,
   "source": [
    "var_matrix=turbine_data.var()\r\n",
    "var_matrix"
   ],
   "outputs": [
    {
     "output_type": "execute_result",
     "data": {
      "text/plain": [
       "Generated watts              1326.499200\n",
       "Exhaust temp               218866.877695\n",
       "Comp Inlet Temp               120.461556\n",
       "Comp IGV angle                578.055854\n",
       "Comp discharge pressure      5594.824188\n",
       "Comp discharge temp         72611.282716\n",
       "dtype: float64"
      ]
     },
     "metadata": {},
     "execution_count": 28
    }
   ],
   "metadata": {}
  },
  {
   "cell_type": "markdown",
   "source": [
    "<H2> Even from previous correlation heat map; Comp Inlet temp had low correlation with other features. \r\n",
    "Checking for improvement in score by removing it.<H2>"
   ],
   "metadata": {}
  },
  {
   "cell_type": "code",
   "execution_count": 21,
   "source": [
    "low_variance_features=var_matrix[var_matrix<200].index.to_list()"
   ],
   "outputs": [],
   "metadata": {}
  },
  {
   "cell_type": "code",
   "execution_count": 29,
   "source": [
    "X=X.drop(columns=low_variance_features)"
   ],
   "outputs": [],
   "metadata": {}
  },
  {
   "cell_type": "code",
   "execution_count": 30,
   "source": [
    "accuracyScore()"
   ],
   "outputs": [
    {
     "output_type": "stream",
     "name": "stdout",
     "text": [
      "R_squared: 0.9941\n",
      "RMSE: 2.8052\n"
     ]
    }
   ],
   "metadata": {}
  },
  {
   "cell_type": "code",
   "execution_count": 31,
   "source": [
    "corr_matrix=turbine_data.drop(columns=low_variance_features).corr(method='kendall')"
   ],
   "outputs": [],
   "metadata": {}
  },
  {
   "cell_type": "code",
   "execution_count": 32,
   "source": [
    "(corr_matrix['Generated watts'].drop('Generated watts')).sort_values(ascending=False)"
   ],
   "outputs": [
    {
     "output_type": "execute_result",
     "data": {
      "text/plain": [
       "Comp discharge pressure    0.686498\n",
       "Comp IGV angle             0.625665\n",
       "Comp discharge temp        0.463505\n",
       "Exhaust temp               0.455276\n",
       "Name: Generated watts, dtype: float64"
      ]
     },
     "metadata": {},
     "execution_count": 32
    }
   ],
   "metadata": {}
  },
  {
   "cell_type": "markdown",
   "source": [
    "<H2> The correlation values are really close, However I want to delete Comp Discharge temp as its highly correlated with Exhaust temp. Its also highly correlated with discharge pressure than exhaust pressure. I want to also remove Comp discharge temp just to check if it affects accuracy.<h2>\r\n"
   ],
   "metadata": {}
  },
  {
   "cell_type": "code",
   "execution_count": 33,
   "source": [
    "X=X.drop(columns=['Comp discharge temp','Comp discharge pressure'])"
   ],
   "outputs": [],
   "metadata": {}
  },
  {
   "cell_type": "code",
   "execution_count": 34,
   "source": [
    "accuracyScore()"
   ],
   "outputs": [
    {
     "output_type": "stream",
     "name": "stdout",
     "text": [
      "R_squared: 0.9903\n",
      "RMSE: 3.583\n"
     ]
    }
   ],
   "metadata": {}
  },
  {
   "cell_type": "markdown",
   "source": [
    "<h2>I am going to further check using Sequential feature selection technique. <H2>"
   ],
   "metadata": {}
  },
  {
   "cell_type": "code",
   "execution_count": 35,
   "source": [
    "r2=make_scorer(r2_score)\r\n",
    "k=X.shape[1]\r\n",
    "classifier_pipeline = make_pipeline(StandardScaler(), LinearRegression())\r\n",
    "sfs=SFS(classifier_pipeline,k_features=k,forward=True,scoring=r2,cv=10)"
   ],
   "outputs": [],
   "metadata": {}
  },
  {
   "cell_type": "code",
   "execution_count": 36,
   "source": [
    "sfs=sfs.fit(X,y)\r\n",
    "sfs.subsets_"
   ],
   "outputs": [
    {
     "output_type": "execute_result",
     "data": {
      "text/plain": [
       "{1: {'feature_idx': (1,),\n",
       "  'cv_scores': array([0.89463544, 0.98994526, 0.99349453, 0.98886654, 0.97866325,\n",
       "         0.98797359, 0.98785642, 0.97649167, 0.9674164 , 0.92899714]),\n",
       "  'avg_score': 0.9694340242814823,\n",
       "  'feature_names': ('Comp IGV angle',)},\n",
       " 2: {'feature_idx': (0, 1),\n",
       "  'cv_scores': array([0.96063117, 0.98785591, 0.98758537, 0.99229234, 0.97648094,\n",
       "         0.98988148, 0.9881587 , 0.98541081, 0.98037436, 0.96061342]),\n",
       "  'avg_score': 0.9809284490886825,\n",
       "  'feature_names': ('Exhaust temp', 'Comp IGV angle')}}"
      ]
     },
     "metadata": {},
     "execution_count": 36
    }
   ],
   "metadata": {}
  },
  {
   "cell_type": "code",
   "execution_count": 38,
   "source": [
    "sfs_bward=SFS(classifier_pipeline,k_features=1,forward=False,scoring=r2,cv=10)\r\n",
    "sfs_bward=sfs_bward.fit(X,y)\r\n",
    "sfs_bward.subsets_"
   ],
   "outputs": [
    {
     "output_type": "execute_result",
     "data": {
      "text/plain": [
       "{2: {'feature_idx': (0, 1),\n",
       "  'cv_scores': array([0.96063117, 0.98785591, 0.98758537, 0.99229234, 0.97648094,\n",
       "         0.98988148, 0.9881587 , 0.98541081, 0.98037436, 0.96061342]),\n",
       "  'avg_score': 0.9809284490886825,\n",
       "  'feature_names': ('Exhaust temp', 'Comp IGV angle')},\n",
       " 1: {'feature_idx': (1,),\n",
       "  'cv_scores': array([0.89463544, 0.98994526, 0.99349453, 0.98886654, 0.97866325,\n",
       "         0.98797359, 0.98785642, 0.97649167, 0.9674164 , 0.92899714]),\n",
       "  'avg_score': 0.9694340242814823,\n",
       "  'feature_names': ('Comp IGV angle',)}}"
      ]
     },
     "metadata": {},
     "execution_count": 38
    }
   ],
   "metadata": {}
  },
  {
   "cell_type": "markdown",
   "source": [
    "<H1> For final step; ordering feature importances using decision tree <H1>"
   ],
   "metadata": {}
  },
  {
   "cell_type": "code",
   "execution_count": 39,
   "source": [
    "regressor=DecisionTreeRegressor()\r\n",
    "X=turbine_data.loc[:,'Exhaust temp':'Comp discharge temp']\r\n",
    "regressor.fit(X,y)   "
   ],
   "outputs": [
    {
     "output_type": "execute_result",
     "data": {
      "text/plain": [
       "DecisionTreeRegressor()"
      ]
     },
     "metadata": {},
     "execution_count": 39
    }
   ],
   "metadata": {}
  },
  {
   "cell_type": "code",
   "execution_count": 40,
   "source": [
    "plt.figure(figsize=(10,6))\r\n",
    "plt.style.use('fivethirtyeight')\r\n",
    "plt.bar(list(X.columns),list(regressor.feature_importances_))\r\n",
    "plt.xlabel('features')\r\n",
    "plt.ylabel('importance score')\r\n",
    "plt.xticks(rotation=45)\r\n",
    "plt.show()"
   ],
   "outputs": [
    {
     "output_type": "display_data",
     "data": {
      "image/png": "[encoded data removed]",
      "text/plain": [
       "<Figure size 720x432 with 1 Axes>"
      ]
     },
     "metadata": {}
    }
   ],
   "metadata": {}
  },
  {
   "cell_type": "markdown",
   "source": [
    "<h2> So i bring back Comp discharge pressure <h2>"
   ],
   "metadata": {}
  },
  {
   "cell_type": "code",
   "execution_count": 41,
   "source": [
    "X=turbine_data.loc[:,['Exhaust temp','Comp discharge pressure','Comp IGV angle']]"
   ],
   "outputs": [],
   "metadata": {}
  },
  {
   "cell_type": "code",
   "execution_count": 42,
   "source": [
    "accuracyScore()"
   ],
   "outputs": [
    {
     "output_type": "stream",
     "name": "stdout",
     "text": [
      "R_squared: 0.9924\n",
      "RMSE: 3.1731\n"
     ]
    }
   ],
   "metadata": {}
  },
  {
   "cell_type": "markdown",
   "source": [
    "<h2> This score and rmse is better than without comp discharge pressure <h2>"
   ],
   "metadata": {}
  }
 ],
 "metadata": {
  "orig_nbformat": 4,
  "language_info": {
   "name": "python",
   "version": "3.9.4",
   "mimetype": "text/x-python",
   "codemirror_mode": {
    "name": "ipython",
    "version": 3
   },
   "pygments_lexer": "ipython3",
   "nbconvert_exporter": "python",
   "file_extension": ".py"
  },
  "kernelspec": {
   "name": "python3",
   "display_name": "Python 3.9.4 64-bit"
  },
  "interpreter": {
   "hash": "dc35b9876508b1d2e1d46d593856ae8aa478e8b34d2a595b43b666b93debebc3"
  }
 },
 "nbformat": 4,
 "nbformat_minor": 2
}