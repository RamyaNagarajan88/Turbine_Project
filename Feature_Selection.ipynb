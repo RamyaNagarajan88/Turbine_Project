{
 "cells": [
  {
   "cell_type": "code",
   "execution_count": 117,
   "source": [
    "import pandas as pd\r\n",
    "import numpy as np\r\n",
    "from sklearn.preprocessing import StandardScaler\r\n",
    "from sklearn.linear_model import LinearRegression\r\n",
    "from sklearn.pipeline import make_pipeline\r\n",
    "from sklearn.model_selection import cross_val_predict\r\n",
    "from sklearn.metrics import r2_score,mean_squared_error,make_scorer\r\n",
    "import math\r\n",
    "from mlxtend.feature_selection import SequentialFeatureSelector as SFS\r\n",
    "import matplotlib.pyplot as plt\r\n",
    "from sklearn import preprocessing"
   ],
   "outputs": [],
   "metadata": {}
  },
  {
   "cell_type": "code",
   "execution_count": 51,
   "source": [
    "\"\"\" Whats in this file\r\n",
    "1. Pick features to model based on \r\n",
    "a. variance, \r\n",
    "b. correlation and \r\n",
    "c. Sequential Feature Selector\r\n",
    "d. decision tree based importances\"\"\""
   ],
   "outputs": [
    {
     "output_type": "execute_result",
     "data": {
      "text/plain": [
       "' Whats in this file\\n1. Pick features to model based on \\na. variance, \\nb. correlation and \\nc. Sequential Feature Selector'"
      ]
     },
     "metadata": {},
     "execution_count": 51
    }
   ],
   "metadata": {}
  },
  {
   "cell_type": "code",
   "execution_count": 52,
   "source": [
    "turbine_data=pd.read_excel('cleaned_turbine_data.xlsx')\r\n",
    "turbine_data.set_index('TimeStamp',inplace=True)\r\n",
    "cols=turbine_data.columns"
   ],
   "outputs": [],
   "metadata": {}
  },
  {
   "cell_type": "code",
   "execution_count": 53,
   "source": [
    "#The distribution curves dont follow a bell curve. So we can standardize it to represent normal distribution"
   ],
   "outputs": [],
   "metadata": {}
  },
  {
   "cell_type": "code",
   "execution_count": 54,
   "source": [
    "X=turbine_data.loc[:,'Exhaust temp':'Comp discharge temp']\r\n",
    "y=turbine_data.loc[:,'Generated watts']"
   ],
   "outputs": [],
   "metadata": {}
  },
  {
   "cell_type": "code",
   "execution_count": 60,
   "source": [
    "def accuracyScore():\r\n",
    "    classifier_pipeline = make_pipeline(StandardScaler(), LinearRegression())\r\n",
    "    y_pred = cross_val_predict(classifier_pipeline,X,y, cv=10)\r\n",
    "    print(\"R_squared: \" + str(round(r2_score(y,y_pred),4)))\r\n",
    "    print(\"RMSE: \" + str(round(math.sqrt(mean_squared_error(y,y_pred)),4)))"
   ],
   "outputs": [],
   "metadata": {}
  },
  {
   "cell_type": "code",
   "execution_count": 61,
   "source": [
    "accuracyScore()"
   ],
   "outputs": [
    {
     "output_type": "stream",
     "name": "stdout",
     "text": [
      "R_squared: 0.9948\n",
      "RMSE: 2.6563\n"
     ]
    }
   ],
   "metadata": {}
  },
  {
   "cell_type": "code",
   "execution_count": 57,
   "source": [
    "# Filter features based on variance. Feature with low variance dont have much to attribute"
   ],
   "outputs": [],
   "metadata": {}
  },
  {
   "cell_type": "code",
   "execution_count": 63,
   "source": [
    "var_matrix=turbine_data.var()\r\n",
    "var_matrix"
   ],
   "outputs": [
    {
     "output_type": "execute_result",
     "data": {
      "text/plain": [
       "Generated watts              1361.088956\n",
       "Exhaust temp               220438.782265\n",
       "Comp Inlet Temp                64.716092\n",
       "Comp IGV angle                600.897404\n",
       "Comp discharge pressure      5732.908934\n",
       "Comp discharge temp         73110.524698\n",
       "dtype: float64"
      ]
     },
     "metadata": {},
     "execution_count": 63
    }
   ],
   "metadata": {}
  },
  {
   "cell_type": "code",
   "execution_count": null,
   "source": [
    "\"\"\"even from previous correlation heat map; Comp Inlet temp had low correlation with other features. \r\n",
    "Checking for improvement in score by removing it. \"\"\""
   ],
   "outputs": [],
   "metadata": {}
  },
  {
   "cell_type": "code",
   "execution_count": 64,
   "source": [
    "low_variance_features=var_matrix[var_matrix<100].index.to_list()"
   ],
   "outputs": [],
   "metadata": {}
  },
  {
   "cell_type": "code",
   "execution_count": 65,
   "source": [
    "X=X.drop(columns=low_variance_features)"
   ],
   "outputs": [],
   "metadata": {}
  },
  {
   "cell_type": "code",
   "execution_count": 66,
   "source": [
    "accuracyScore()"
   ],
   "outputs": [
    {
     "output_type": "stream",
     "name": "stdout",
     "text": [
      "R_squared: 0.9949\n",
      "RMSE: 2.6462\n"
     ]
    }
   ],
   "metadata": {}
  },
  {
   "cell_type": "code",
   "execution_count": 68,
   "source": [
    "corr_matrix=turbine_data.drop(columns=low_variance_features).corr(method='kendall')"
   ],
   "outputs": [],
   "metadata": {}
  },
  {
   "cell_type": "code",
   "execution_count": 73,
   "source": [
    "(corr_matrix['Generated watts'].drop('Generated watts')).sort_values(ascending=False)"
   ],
   "outputs": [
    {
     "output_type": "execute_result",
     "data": {
      "text/plain": [
       "Comp discharge pressure    0.639376\n",
       "Comp IGV angle             0.592611\n",
       "Exhaust temp               0.502490\n",
       "Comp discharge temp        0.444930\n",
       "Name: Generated watts, dtype: float64"
      ]
     },
     "metadata": {},
     "execution_count": 73
    }
   ],
   "metadata": {}
  },
  {
   "cell_type": "code",
   "execution_count": 74,
   "source": [
    "# as the correlation values are really close, I dont want to delete anything now. \r\n",
    "# I am going to further check using Sequential feature selection technique."
   ],
   "outputs": [],
   "metadata": {}
  },
  {
   "cell_type": "code",
   "execution_count": 82,
   "source": [
    "r2=make_scorer(r2_score)\r\n",
    "k=X.shape[1]\r\n",
    "classifier_pipeline = make_pipeline(StandardScaler(), LinearRegression())\r\n",
    "sfs=SFS(classifier_pipeline,k_features=k,forward=True,scoring=r2,cv=10)"
   ],
   "outputs": [],
   "metadata": {}
  },
  {
   "cell_type": "code",
   "execution_count": 83,
   "source": [
    "sfs=sfs.fit(X,y)\r\n",
    "sfs.subsets_"
   ],
   "outputs": [
    {
     "output_type": "execute_result",
     "data": {
      "text/plain": [
       "{1: {'feature_idx': (1,),\n",
       "  'cv_scores': array([0.47630682, 0.99212942, 0.99468378, 0.99083252, 0.98032153,\n",
       "         0.98929223, 0.99012002, 0.97887894, 0.96546557, 0.93622697]),\n",
       "  'avg_score': 0.9294257806874386,\n",
       "  'feature_names': ('Comp IGV angle',)},\n",
       " 2: {'feature_idx': (1, 2),\n",
       "  'cv_scores': array([0.46947509, 0.99110256, 0.98990628, 0.99251041, 0.98534041,\n",
       "         0.99335916, 0.99099119, 0.99266405, 0.98464518, 0.97445969]),\n",
       "  'avg_score': 0.9364454012699583,\n",
       "  'feature_names': ('Comp IGV angle', 'Comp discharge pressure')},\n",
       " 3: {'feature_idx': (1, 2, 3),\n",
       "  'cv_scores': array([0.70449497, 0.99192326, 0.99202182, 0.98883844, 0.98315619,\n",
       "         0.9942442 , 0.99137223, 0.99348833, 0.98687734, 0.98059351]),\n",
       "  'avg_score': 0.9607010297664964,\n",
       "  'feature_names': ('Comp IGV angle',\n",
       "   'Comp discharge pressure',\n",
       "   'Comp discharge temp')},\n",
       " 4: {'feature_idx': (0, 1, 2, 3),\n",
       "  'cv_scores': array([0.84333506, 0.99199668, 0.99285248, 0.99061932, 0.98256841,\n",
       "         0.99472933, 0.98896523, 0.99442425, 0.98879432, 0.98498573]),\n",
       "  'avg_score': 0.9753270804977763,\n",
       "  'feature_names': ('Exhaust temp',\n",
       "   'Comp IGV angle',\n",
       "   'Comp discharge pressure',\n",
       "   'Comp discharge temp')}}"
      ]
     },
     "metadata": {},
     "execution_count": 83
    }
   ],
   "metadata": {}
  },
  {
   "cell_type": "code",
   "execution_count": 85,
   "source": [
    "# results from forward selection -> all 4 features together yield better result.\r\n",
    "# I am going to check with sequential backward selection"
   ],
   "outputs": [],
   "metadata": {}
  },
  {
   "cell_type": "code",
   "execution_count": 86,
   "source": [
    "sfs_bward=SFS(classifier_pipeline,k_features=1,forward=False,scoring=r2,cv=10)\r\n",
    "sfs_bward=sfs_bward.fit(X,y)\r\n",
    "sfs_bward.subsets_"
   ],
   "outputs": [
    {
     "output_type": "execute_result",
     "data": {
      "text/plain": [
       "{4: {'feature_idx': (0, 1, 2, 3),\n",
       "  'cv_scores': array([0.84333506, 0.99199668, 0.99285248, 0.99061932, 0.98256841,\n",
       "         0.99472933, 0.98896523, 0.99442425, 0.98879432, 0.98498573]),\n",
       "  'avg_score': 0.9753270804977763,\n",
       "  'feature_names': ('Exhaust temp',\n",
       "   'Comp IGV angle',\n",
       "   'Comp discharge pressure',\n",
       "   'Comp discharge temp')},\n",
       " 3: {'feature_idx': (0, 1, 3),\n",
       "  'cv_scores': array([0.79150949, 0.99020715, 0.99233567, 0.99416606, 0.97978567,\n",
       "         0.99386309, 0.98479348, 0.99223547, 0.98472862, 0.97711438]),\n",
       "  'avg_score': 0.9680739060341109,\n",
       "  'feature_names': ('Exhaust temp', 'Comp IGV angle', 'Comp discharge temp')},\n",
       " 2: {'feature_idx': (0, 1),\n",
       "  'cv_scores': array([0.44041024, 0.98938014, 0.98894659, 0.9882483 , 0.98265669,\n",
       "         0.99228888, 0.9869617 , 0.99012945, 0.98017531, 0.96505039]),\n",
       "  'avg_score': 0.9304247697500239,\n",
       "  'feature_names': ('Exhaust temp', 'Comp IGV angle')},\n",
       " 1: {'feature_idx': (1,),\n",
       "  'cv_scores': array([0.47630682, 0.99212942, 0.99468378, 0.99083252, 0.98032153,\n",
       "         0.98929223, 0.99012002, 0.97887894, 0.96546557, 0.93622697]),\n",
       "  'avg_score': 0.9294257806874386,\n",
       "  'feature_names': ('Comp IGV angle',)}}"
      ]
     },
     "metadata": {},
     "execution_count": 86
    }
   ],
   "metadata": {}
  },
  {
   "cell_type": "code",
   "execution_count": 132,
   "source": [
    "# For final step; ordering feature importances using decision tree\r\n",
    "from sklearn.tree import DecisionTreeRegressor \r\n",
    "regressor=DecisionTreeRegressor()\r\n",
    "regressor.fit(X,y)   "
   ],
   "outputs": [
    {
     "output_type": "execute_result",
     "data": {
      "text/plain": [
       "DecisionTreeRegressor()"
      ]
     },
     "metadata": {},
     "execution_count": 132
    }
   ],
   "metadata": {}
  },
  {
   "cell_type": "code",
   "execution_count": 133,
   "source": [
    "plt.figure(figsize=(10,6))\r\n",
    "plt.style.use('fivethirtyeight')\r\n",
    "plt.bar(list(X.columns),list(regressor.feature_importances_))\r\n",
    "plt.xlabel('features')\r\n",
    "plt.ylabel('importance score')\r\n",
    "plt.xticks(rotation=45)\r\n",
    "plt.show()"
   ],
   "outputs": [
    {
     "output_type": "display_data",
     "data": {
      "image/png": "[encoded data removed]",
      "text/plain": [
       "<Figure size 720x432 with 1 Axes>"
      ]
     },
     "metadata": {}
    }
   ],
   "metadata": {}
  }
 ],
 "metadata": {
  "orig_nbformat": 4,
  "language_info": {
   "name": "python",
   "version": "3.9.4",
   "mimetype": "text/x-python",
   "codemirror_mode": {
    "name": "ipython",
    "version": 3
   },
   "pygments_lexer": "ipython3",
   "nbconvert_exporter": "python",
   "file_extension": ".py"
  },
  "kernelspec": {
   "name": "python3",
   "display_name": "Python 3.9.4 64-bit"
  },
  "interpreter": {
   "hash": "dc35b9876508b1d2e1d46d593856ae8aa478e8b34d2a595b43b666b93debebc3"
  }
 },
 "nbformat": 4,
 "nbformat_minor": 2
}